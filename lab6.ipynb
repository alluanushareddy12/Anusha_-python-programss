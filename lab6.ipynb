{
  "nbformat": 4,
  "nbformat_minor": 0,
  "metadata": {
    "colab": {
      "provenance": [],
      "authorship_tag": "ABX9TyONnmwzHZ+waxxAw5WhIEi7",
      "include_colab_link": true
    },
    "kernelspec": {
      "name": "python3",
      "display_name": "Python 3"
    },
    "language_info": {
      "name": "python"
    }
  },
  "cells": [
    {
      "cell_type": "markdown",
      "metadata": {
        "id": "view-in-github",
        "colab_type": "text"
      },
      "source": [
        "<a href=\"https://colab.research.google.com/github/alluanushareddy12/Anusha_-python-programss/blob/main/lab6.ipynb\" target=\"_parent\"><img src=\"https://colab.research.google.com/assets/colab-badge.svg\" alt=\"Open In Colab\"/></a>"
      ]
    },
    {
      "cell_type": "code",
      "execution_count": 1,
      "metadata": {
        "colab": {
          "base_uri": "https://localhost:8080/"
        },
        "id": "Enud6H4hsdtN",
        "outputId": "1117a0c7-64fc-4ba2-b998-1b345f79473c"
      },
      "outputs": [
        {
          "output_type": "stream",
          "name": "stdout",
          "text": [
            "The sum of 5 and 3 is 8\n",
            "The product of 4 and 7 is 28\n"
          ]
        }
      ],
      "source": [
        "# Inserting space between outputs using commas\n",
        "print(\"The sum of 5 and 3 is\", 5 + 3)\n",
        "print(\"The product of 4 and 7 is\", 4 * 7)\n"
      ]
    }
  ]
}