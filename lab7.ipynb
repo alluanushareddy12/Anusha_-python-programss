{
  "nbformat": 4,
  "nbformat_minor": 0,
  "metadata": {
    "colab": {
      "provenance": [],
      "authorship_tag": "ABX9TyNpFEFzD0k706cuZ7pwE7G+",
      "include_colab_link": true
    },
    "kernelspec": {
      "name": "python3",
      "display_name": "Python 3"
    },
    "language_info": {
      "name": "python"
    }
  },
  "cells": [
    {
      "cell_type": "markdown",
      "metadata": {
        "id": "view-in-github",
        "colab_type": "text"
      },
      "source": [
        "<a href=\"https://colab.research.google.com/github/alluanushareddy12/Anusha_-python-programss/blob/main/lab7.ipynb\" target=\"_parent\"><img src=\"https://colab.research.google.com/assets/colab-badge.svg\" alt=\"Open In Colab\"/></a>"
      ]
    },
    {
      "cell_type": "code",
      "execution_count": 2,
      "metadata": {
        "colab": {
          "base_uri": "https://localhost:8080/"
        },
        "id": "hcqyRtLhvBHn",
        "outputId": "84dde9ec-5463-4653-fc69-0be1b57f9a7f"
      },
      "outputs": [
        {
          "output_type": "stream",
          "name": "stdout",
          "text": [
            "This is the line one.\n",
            "This is line two.\n",
            "This is line three.\n",
            "And this is line four.\n"
          ]
        }
      ],
      "source": [
        "print(\"\"\"This is the line one.\n",
        "This is line two.\n",
        "This is line three.\n",
        "And this is line four.\"\"\")"
      ]
    }
  ]
}